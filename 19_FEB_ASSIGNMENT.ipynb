{
 "cells": [
  {
   "cell_type": "code",
   "execution_count": 2,
   "id": "30a70a6f-a950-4aa3-a4e9-18eb6abfe9f2",
   "metadata": {},
   "outputs": [],
   "source": [
    "# Q1. What is Flask Framework? What are the advantages of Flask Framework?"
   ]
  },
  {
   "cell_type": "markdown",
   "id": "0440d15c-3fda-41d5-8cf3-6c870b881c75",
   "metadata": {},
   "source": [
    "ANS = Flask is a micro web framework for Python that allows developers to build web applications quickly and easily. It is designed to be simple and lightweight, giving developers the flexibility to choose the components they need and structure their applications as they see fit. Flask follows the WSGI (Web Server Gateway Interface) standard and provides the basic tools needed to create web applications, while allowing developers to add additional libraries and features as needed.\n",
    "\n",
    "Advantages of Flask Framework:\n",
    "\n",
    "Simplicity:\n",
    "\n",
    "Flask is known for its simplicity and minimalistic approach. It provides the essentials for building web applications without imposing a lot of constraints or unnecessary complexity. This makes it a great choice for smaller projects or developers who want more control over their application structure.\n",
    "\n",
    "Flexibility:\n",
    "\n",
    "Flask doesn't force a particular way of doing things. Developers have the freedom to choose the components and libraries they want to use, allowing them to build applications tailored to their specific needs.\n",
    "\n",
    "Modularity:\n",
    "\n",
    "Flask is designed with modularity in mind. It comes with a core set of functionality, and additional features can be added through extensions. This makes it easy to only include what's needed for your project, keeping the application lightweight.\n",
    "\n",
    "Extensibility: \n",
    "\n",
    "Flask has a large ecosystem of extensions that provide additional features, such as database integration, authentication, form handling, and more. These extensions can be seamlessly integrated into your application to enhance its capabilities.\n",
    "\n",
    "Minimal Boilerplate: \n",
    "\n",
    "Flask reduces the amount of boilerplate code you need to write, making it quicker to get a basic application up and running. This is particularly helpful for prototyping and small projects.\n",
    "\n",
    "Well-documented: \n",
    "\n",
    "Flask has comprehensive documentation that guides developers through the process of building web applications. This makes it easier for newcomers to learn and start using the framework effectively.\n",
    "\n",
    "Community and Resources: \n",
    "\n",
    "Flask has an active and supportive community that contributes to its development and provides resources, tutorials, and examples. This can be very helpful when you encounter issues or need guidance.\n",
    "\n",
    "Testing:\n",
    "\n",
    "Flask provides built-in support for unit testing and integration testing. This encourages developers to write tests for their applications, leading to more robust and reliable code.\n",
    "\n",
    "Scalability: \n",
    "\n",
    "While Flask is often used for smaller projects, it can also be scaled up for larger applications. With the right architecture and design practices, Flask applications can handle increased traffic and complexity.\n",
    "\n",
    "Learning Curve:\n",
    "\n",
    "Due to its simplicity, Flask is relatively easy to learn, especially for developers who are already familiar with Python."
   ]
  },
  {
   "cell_type": "code",
   "execution_count": 3,
   "id": "3f115e4b-982a-45cd-ac38-e22320c52ee0",
   "metadata": {},
   "outputs": [],
   "source": [
    "# Q2. Create a simple Flask application to display ‘Hello World!!’. Attach the screenshot of the output in\n",
    "# Jupyter Notebook."
   ]
  },
  {
   "cell_type": "markdown",
   "id": "16f5feee-051b-4c26-a66c-2f8350542516",
   "metadata": {},
   "source": [
    "from flask import Flask\n",
    "\n",
    "app = Flask(__name__)\n",
    "\n",
    "@app.route(\"/HELLO\")\n",
    "\n",
    "def hello_world():\n",
    "\n",
    "    return \"<h1>‘Hello World!!'</h1>\"\n",
    "\n",
    "if __name__==\"__main__\":\n",
    "\n",
    "    app.run(host=\"0.0.0.0\")"
   ]
  },
  {
   "cell_type": "markdown",
   "id": "b81acec2-b6c5-4505-bf50-5e5c6e969190",
   "metadata": {},
   "source": [
    "Attached the screenshot of the output:"
   ]
  },
  {
   "attachments": {
    "225f7c2b-33a4-4a19-aae6-e9af769f252b.png": {
     "image/png": "[encoded data removed]"
    }
   },
   "cell_type": "markdown",
   "id": "09cf333a-6051-43cb-9dcf-6bcb82185f38",
   "metadata": {},
   "source": [
    "![image.png](attachment:225f7c2b-33a4-4a19-aae6-e9af769f252b.png)"
   ]
  },
  {
   "cell_type": "code",
   "execution_count": 4,
   "id": "7e8d605c-2a67-4db4-bd61-9a0b6d741893",
   "metadata": {},
   "outputs": [],
   "source": [
    "# Q3. What is App routing in Flask? Why do we use app routes?"
   ]
  },
  {
   "cell_type": "markdown",
   "id": "c4f37699-b315-4024-b112-7f45a64849dd",
   "metadata": {},
   "source": [
    "ANS = In Flask, app routing refers to the process of defining URL routes within your web application. URL routing determines how different URLs or paths entered by users in their web browsers correspond to different functions or views within your Flask application. Each route is associated with a specific view function that is responsible for handling requests to that particular URL.\n",
    "\n",
    "Flask uses a decorator called @app.route() to define routes.\n",
    "\n",
    "-->we use app routes in Flask?<--\n",
    "\n",
    "URL Mapping:\n",
    "\n",
    "App routes allow you to map specific URLs or paths to corresponding functions in your Flask application. This helps organize your application's logic and content based on different URLs.\n",
    "\n",
    "Page Navigation: \n",
    "\n",
    "Routes make it easy for users to navigate through different pages or sections of your web application by simply changing the URL.\n",
    "\n",
    "Dynamic Content: \n",
    "\n",
    "Routes can contain placeholders to capture dynamic values from the URL, such as user IDs or product names. This enables you to create dynamic, data-driven pages.\n",
    "\n",
    "Separation of Concerns:\n",
    "\n",
    "By associating specific routes with specific view functions, Flask promotes the separation of concerns in your application's codebase. Each view function can focus on a particular aspect of your application's functionality.\n",
    "\n",
    "RESTful APIs: \n",
    "\n",
    "When building APIs using Flask, routes play a crucial role in defining different endpoints that correspond to different API operations, such as creating, reading, updating, or deleting data.\n",
    "\n",
    "Modularity: \n",
    "\n",
    "Routes contribute to the modular structure of your Flask application. Different routes and their associated view functions can be organized in separate modules or blueprints, making your codebase more maintainable.\n",
    "\n",
    "Ease of Maintenance: \n",
    "\n",
    "As your application grows, having well-defined routes makes it easier to understand and maintain the flow of requests and responses within your application.\n",
    "\n",
    "Testing: \n",
    "\n",
    "Routes also play a significant role in testing, as you can easily simulate different URLs and test the behavior of your view functions."
   ]
  },
  {
   "cell_type": "code",
   "execution_count": 5,
   "id": "410bbfb4-d21f-45a8-b4ea-90b7859c15c0",
   "metadata": {},
   "outputs": [],
   "source": [
    "#Q4.  Create a “/welcome” route to display the welcome message “Welcome to ABC Corporation” and a “/”\n",
    "# route to show the following details:\n",
    "\n",
    "  #   Company Name: ABC Corporation\n",
    "\n",
    "  #  Location: India\n",
    "\n",
    "   # Contact Detail: 999-999-9999 "
   ]
  },
  {
   "cell_type": "markdown",
   "id": "02f7cd8b-6769-456b-85a9-e7e48625d22c",
   "metadata": {},
   "source": [
    "Attached the screenshot of the output in Jupyter Notebook"
   ]
  },
  {
   "cell_type": "markdown",
   "id": "a49fe01e-c474-4acd-b515-1edf307ba080",
   "metadata": {},
   "source": [
    "![image3.png](image3.png)"
   ]
  },
  {
   "cell_type": "markdown",
   "id": "d8c005da-45d0-48a3-ba51-0bddf880d61d",
   "metadata": {},
   "source": [
    "![Image Alt Text](this_is_imge.png)"
   ]
  },
  {
   "cell_type": "code",
   "execution_count": 6,
   "id": "4afacc70-b2b9-44e0-8719-8d0e51667552",
   "metadata": {},
   "outputs": [],
   "source": [
    "# Q5. What function is used in Flask for URL Building? Write a Python code to demonstrate the working of the\n",
    "# url_for() function."
   ]
  },
  {
   "cell_type": "markdown",
   "id": "a5b3fdee-7edc-407a-a829-b21f9f32841b",
   "metadata": {},
   "source": [
    "ANS = In Flask, the url_for() function is used for URL building. This function generates a URL for a given view function based on its name. It abstracts the URL generation process and helps you avoid hardcoding URLs, making your code more maintainable.\n",
    "\n",
    "Here's a Python code example to demonstrate how the url_for() function works in Flask:"
   ]
  },
  {
   "cell_type": "markdown",
   "id": "11f1532f-d2a0-452c-b7ba-0f80b4b9cf91",
   "metadata": {},
   "source": [
    "from flask import Flask, url_for\n",
    "\n",
    "app = Flask(__name__)\n",
    "\n",
    "\n",
    "@app.route('/')\n",
    "\n",
    "def index():\n",
    "\n",
    "    return 'Hello, this is the index page!'\n",
    "\n",
    "@app.route('/user/<username>')\n",
    "    \n",
    "def user_profile(username):\n",
    "    \n",
    "    return f'Hello, {username}!'\n",
    "\n",
    "if __name__ == '__main__':\n",
    "    \n",
    "    with app.test_request_context():\n",
    "        \n",
    "        # Generate URLs using url_for()\n",
    "    \n",
    "        index_url = url_for('index')\n",
    "    \n",
    "        user_url = url_for('user_profile', username='UVAIS')\n",
    "\n",
    "        print(\"Generated URLs:\")\n",
    "    \n",
    "        print(\"Index URL:\", index_url)\n",
    "    \n",
    "        print(\"User URL:\", user_url)\n"
   ]
  },
  {
   "cell_type": "code",
   "execution_count": null,
   "id": "49bfa708-098f-43a9-ad8d-3c5305a88062",
   "metadata": {},
   "outputs": [],
   "source": []
  }
 ],
 "metadata": {
  "kernelspec": {
   "display_name": "Python 3 (ipykernel)",
   "language": "python",
   "name": "python3"
  },
  "language_info": {
   "codemirror_mode": {
    "name": "ipython",
    "version": 3
   },
   "file_extension": ".py",
   "mimetype": "text/x-python",
   "name": "python",
   "nbconvert_exporter": "python",
   "pygments_lexer": "ipython3",
   "version": "3.10.8"
  }
 },
 "nbformat": 4,
 "nbformat_minor": 5
}
